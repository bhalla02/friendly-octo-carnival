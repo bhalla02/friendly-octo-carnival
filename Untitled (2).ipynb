{
 "cells": [
  {
   "cell_type": "markdown",
   "id": "ff36f64a-359e-4d87-bca3-77926d9a5605",
   "metadata": {},
   "source": [
    "Q1\n",
    "\n",
    "A class is a blueprint or template for creating objects. It defines the attributes (data members) and behaviors (methods) that the objects of that class will have. In other words, a class defines the characteristics and actions that objects of that class can possess.\n",
    "\n",
    "Object: An object is an instance of a class. It's a concrete realization of the class blueprint, representing a specific entity with its own data and behavior. Objects are created based on the class template and can interact with each other."
   ]
  },
  {
   "cell_type": "code",
   "execution_count": 1,
   "id": "e5ecbf4b-66dc-4a32-b324-34e5c1d38a05",
   "metadata": {},
   "outputs": [],
   "source": [
    "#Q1 code\n",
    "\n",
    "class Student :\n",
    "    def __init__(self,name , age , student_id):\n",
    "        self.name = name\n",
    "        self.age = age\n",
    "        self.student_id = student_id\n",
    "    \n",
    "    def return_student_details(self):\n",
    "        return self.name , self.age , self.student_id\n",
    "    \n",
    "    \n",
    "        "
   ]
  },
  {
   "cell_type": "code",
   "execution_count": 3,
   "id": "5fb69cf9-79f3-4dfd-b30d-5ba139af6724",
   "metadata": {},
   "outputs": [],
   "source": [
    "student1 = Student(\"Rohan\" , 18 , 201)"
   ]
  },
  {
   "cell_type": "code",
   "execution_count": 8,
   "id": "c8a97d66-85da-4faa-a9d9-8fca07da5f60",
   "metadata": {},
   "outputs": [
    {
     "data": {
      "text/plain": [
       "('Rohan', 18, 201)"
      ]
     },
     "execution_count": 8,
     "metadata": {},
     "output_type": "execute_result"
    }
   ],
   "source": [
    "student1.return_student_details()"
   ]
  },
  {
   "cell_type": "markdown",
   "id": "d4df823a-81d6-408d-9fa8-f22ee85fc92d",
   "metadata": {},
   "source": [
    "Q2\n",
    "\n",
    "Four pillar of OOPs are :\n",
    "1 Encapsulation\n",
    "2 Polymorphism\n",
    "3 Inheritance\n",
    "4 Abstraction\n",
    "\n"
   ]
  },
  {
   "cell_type": "markdown",
   "id": "888bf532-770e-403d-9ede-c4cad7b867d7",
   "metadata": {},
   "source": [
    "Q5\n",
    "\n",
    "The __init__() function, also known as a constructor, is a special method in Python that is automatically called when an object of a class is created. It's used to initialize the attributes (data members) of the object and perform any necessary setup or configuration."
   ]
  },
  {
   "cell_type": "code",
   "execution_count": 9,
   "id": "3c1cd4d5-09d4-48d6-a1cc-8acf5819ee6d",
   "metadata": {},
   "outputs": [],
   "source": [
    "#Q3 Code\n",
    "class Car:\n",
    "    def __init__(self, make, model, year):\n",
    "        self.make = make\n",
    "        self.model = model\n",
    "        self.year = year\n",
    "        self.is_running = False\n",
    "\n",
    "    def start_engine(self):\n",
    "        if not self.is_running:\n",
    "            self.is_running = True\n",
    "            print(f\"The {self.year} {self.make} {self.model}'s engine is now running.\")\n",
    "        else:\n",
    "            print(\"The engine is already running.\")\n",
    "\n",
    "    def stop_engine(self):\n",
    "        if self.is_running:\n",
    "            self.is_running = False\n",
    "            print(f\"The {self.year} {self.make} {self.model}'s engine has been stopped.\")\n",
    "        else:\n",
    "            print(\"The engine is already stopped.\")\n",
    "\n",
    "\n",
    "\n",
    "\n"
   ]
  },
  {
   "cell_type": "code",
   "execution_count": 10,
   "id": "5eaca225-0bb8-4a4e-bd21-041ff5e5a9c8",
   "metadata": {},
   "outputs": [
    {
     "name": "stdout",
     "output_type": "stream",
     "text": [
      "The 2023 Toyota Camry's engine is now running.\n",
      "The 2023 Tesla Model 3's engine is now running.\n"
     ]
    }
   ],
   "source": [
    "car1 = Car(\"Toyota\", \"Camry\", 2023)\n",
    "car2 = Car(\"Tesla\", \"Model 3\", 2023)\n",
    "\n",
    "\n",
    "car1.start_engine()\n",
    "car2.start_engine()"
   ]
  },
  {
   "cell_type": "markdown",
   "id": "b008c222-9601-4b31-8f95-ca4d465345aa",
   "metadata": {},
   "source": [
    "Q4\n",
    "\n",
    "Self is used to refer to the instance of the class within its own methods. It acts as a reference to the current object, allowing you to access and manipulate its attributes and methods."
   ]
  },
  {
   "cell_type": "markdown",
   "id": "7fec7ab7-9920-405e-bbb5-d3fe1d595efe",
   "metadata": {},
   "source": [
    "Q5\n",
    "\n",
    "Inheritance is a fundamental concept in object-oriented programming (OOP) that allows a new class (subclass or derived class) to inherit properties and behaviors (attributes and methods) from an existing class (superclass or base class). Inheritance promotes code reuse and the creation of hierarchical relationships between classes."
   ]
  },
  {
   "cell_type": "code",
   "execution_count": 12,
   "id": "2ac377f2-bedd-486f-8429-e6a94ad47f03",
   "metadata": {},
   "outputs": [],
   "source": [
    "#Q5\n",
    "class Animal:\n",
    "    def speak(self):\n",
    "        pass\n",
    "\n",
    "class Dog(Animal):\n",
    "    def speak(self):\n",
    "        return \"Woof!\"\n",
    "\n",
    "class Cat(Animal):\n",
    "    def speak(self):\n",
    "        return \"Meow!\"\n"
   ]
  },
  {
   "cell_type": "code",
   "execution_count": null,
   "id": "77117970-957c-4e42-be53-33d00cab09df",
   "metadata": {},
   "outputs": [],
   "source": [
    "class A:\n",
    "    def method_a(self):\n",
    "        pass\n",
    "\n",
    "class B:\n",
    "    def method_b(self):\n",
    "        pass\n",
    "\n",
    "class C(A, B):\n",
    "    def method_c(self):\n",
    "        pass\n"
   ]
  },
  {
   "cell_type": "code",
   "execution_count": null,
   "id": "960868d6-180b-4864-89c6-7a119d6548a3",
   "metadata": {},
   "outputs": [],
   "source": [
    "class A:\n",
    "    def method_a(self):\n",
    "        pass\n",
    "\n",
    "class B(A):\n",
    "    def method_b(self):\n",
    "        pass\n",
    "\n",
    "class C(B):\n",
    "    def method_c(self):\n",
    "        pass\n"
   ]
  },
  {
   "cell_type": "code",
   "execution_count": null,
   "id": "8d0dee4a-076c-4119-a70f-5997fe78da14",
   "metadata": {},
   "outputs": [],
   "source": [
    "class A:\n",
    "    def method_a(self):\n",
    "        pass\n",
    "\n",
    "class B(A):\n",
    "    def method_b(self):\n",
    "        pass\n",
    "\n",
    "class C(B):\n",
    "    def method_c(self):\n",
    "        pass\n"
   ]
  }
 ],
 "metadata": {
  "kernelspec": {
   "display_name": "Python 3 (ipykernel)",
   "language": "python",
   "name": "python3"
  },
  "language_info": {
   "codemirror_mode": {
    "name": "ipython",
    "version": 3
   },
   "file_extension": ".py",
   "mimetype": "text/x-python",
   "name": "python",
   "nbconvert_exporter": "python",
   "pygments_lexer": "ipython3",
   "version": "3.10.8"
  }
 },
 "nbformat": 4,
 "nbformat_minor": 5
}
